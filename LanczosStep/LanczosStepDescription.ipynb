{
 "cells": [
  {
   "cell_type": "markdown",
   "id": "458a465b-7a53-4f39-a1ab-4a4bdc019af6",
   "metadata": {},
   "source": [
    "# <center>Lanczos Algorithm</center>\n",
    "\n",
    "Lanczos algorithm is a numerical method used to find the eigenvalues and eigenvectors of large matrices. It is particularly useful in quantum mechanics, where for many-body systems dimension of the <i>Hilbert space</i> grows exponentially with system size. It allows to find ground states of sparse hamiltonians very efficiently by employing <i>Krylov subspace</i> iteration methods. A brief description of the algorithm is presented below.\n",
    "\n",
    "First we create a random vector inside system's <i>Hilbert space</i>:\n",
    "\n",
    "### $$|\\psi_0\\rangle = \\sum_b\\alpha_b|b\\rangle$$\n",
    "\n",
    "Where $|b\\rangle$ is a set of all $2^L$ vectors from Hilbert space of size $L$, $\\alpha_b \\in (0, 1)$ is a random number. Then we apply the hamiltonian to it and we get:\n",
    "\n",
    "### <center>$\\hat{H}|\\psi_o\\rangle = a_0|\\psi_o\\rangle + b_1|\\psi_1\\rangle$</center>\n",
    "\n",
    "And the goal is to find $b_1$ and $|\\psi_1\\rangle$. So applied hamiltonian we mark as:\n",
    "\n",
    "### <center>$\\hat{H}|\\psi_0\\rangle = |\\phi_1\\rangle$</center>\n",
    "\n",
    "$|\\phi_1\\rangle$ is a temporary vector to allow further calculations:\n",
    "\n",
    "### <center>$|\\phi_2\\rangle = |\\phi_1\\rangle - a_0|\\psi_0\\rangle = b_1|\\psi_1\\rangle$</center>\n",
    "\n",
    "And we get:\n",
    "\n",
    "### <center>$\\langle \\phi_2|\\phi_2\\rangle = |b_1|^\\langle \\psi_1|\\psi_1\\rangle = |b_1|^2 \\Rightarrow$</center>\n",
    "\n",
    "### <center>$b_1 = \\sqrt{\\langle \\phi_2|\\phi_2\\rangle}$, and $|\\psi_1\\rangle = \\frac{|\\phi_2\\rangle}{b_1}$</center>\n",
    "\n",
    "Now we repeat the whole process, but one additional step is needed - we add third term to hamiltonian multiplication:\n",
    "\n",
    "### <center>$\\hat{H}|\\psi_1\\rangle = b_1|\\psi_0\\rangle + a_1|\\psi_1\\rangle + b_2|\\psi_2\\rangle$</center>\n",
    "\n",
    "And we calculate new coefficients exactly the same way:\n",
    "\n",
    "### <center>$|\\phi_2\\rangle = \\hat{H}|\\psi_1\\rangle - a_1|\\psi_1\\rangle - b_1|\\psi_0\\rangle$</center>\n",
    "\n",
    "We calculate $b_2$ and $|\\psi_2\\rangle$:\n",
    "\n",
    "### <center>$b_2 = \\sqrt{\\langle |\\psi_2|\\phi_2\\rangle}$, and $|\\psi_2\\rangle = \\frac{|\\phi_2\\rangle}{b_2}$</center>\n",
    "\n",
    "We see that there is a pattern - we can write everything in a more general form:\n",
    "\n",
    "### <center>$\\hat{H}|\\psi_i\\rangle = b_i|\\psi_{i-1}\\rangle + a_i|\\psi_i\\rangle + b_{i+1}|\\psi_{i+1}\\rangle$</center>\n",
    "\n",
    "### <center>$a_i = \\langle \\psi_i|\\hat{H}|\\psi_i\\rangle$, and $b_i = \\langle \\psi_{i-1}$</center>\n",
    "\n",
    "### <center>$b_{i+1} = \\sqrt{\\langle \\phi_2|\\phi_2\\rangle}$, where $|\\phi_2\\rangle = \\hat{H}|\\psi_i\\rangle - a_i|\\psi_i\\rangle - b_i|\\phi_{i-1}\\rangle$</center>\n",
    "\n",
    "Each Lanczos step changes matrix size and calculates new coefficients diagonally:\n",
    "\n",
    "### $$\\tilde{H} = \\begin{bmatrix}a_0\\end{bmatrix} \\Rightarrow \\begin{bmatrix}a_0 & b_1 \\\\ b_1 & a_1\\end{bmatrix} \\Rightarrow \\begin{bmatrix} a_0 & b_1 &  \\\\ b_1 & a_1 & b_2 \\\\  & b_2 & a_2\\end{bmatrix} \\Rightarrow \\cdots \\Rightarrow \\begin{bmatrix}a_0 & b_1 \\\\ b_1 & a_1 & b_2 \\\\ & b_2 & \\ddots & \\ddots \\\\ & & \\ddots & \\ddots & b_{n-2} \\\\ & & & b_{n-2} & a_{n-2} & b_{n-1} \\\\ & & & & b_{n-1} & a_{n-1}\\end{bmatrix}$$\n",
    "\n",
    "After $n$ Lanczos steps we have $n \\times n$ matrix. After enough steps extreme eigenvalues converge quickly to real ones and we got the results much more efficiently. Let's implement it in a code."
   ]
  },
  {
   "cell_type": "code",
   "execution_count": null,
   "id": "92efea79-e1b7-4432-840f-5c97b531ccc1",
   "metadata": {},
   "outputs": [],
   "source": []
  }
 ],
 "metadata": {
  "kernelspec": {
   "display_name": "Python 3 (ipykernel)",
   "language": "python",
   "name": "python3"
  },
  "language_info": {
   "codemirror_mode": {
    "name": "ipython",
    "version": 3
   },
   "file_extension": ".py",
   "mimetype": "text/x-python",
   "name": "python",
   "nbconvert_exporter": "python",
   "pygments_lexer": "ipython3",
   "version": "3.9.13"
  }
 },
 "nbformat": 4,
 "nbformat_minor": 5
}
