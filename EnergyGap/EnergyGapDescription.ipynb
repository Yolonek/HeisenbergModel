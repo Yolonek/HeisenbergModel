{
 "cells": [
  {
   "cell_type": "markdown",
   "id": "64675f9f-29d5-481f-9b94-014f756cf398",
   "metadata": {},
   "source": [
    "# <center>Energy Gap</center>"
   ]
  },
  {
   "cell_type": "markdown",
   "id": "441e32c6-83e6-4195-8cad-2fc652d173ae",
   "metadata": {},
   "source": [
    "Energy gap is described as the difference between the ground state and the first excited state:\n",
    "\n",
    "### <center>$\\Delta E = E_{excited} - E_{ground}$</center>\n",
    "\n",
    "Let's use classes Hamiltonian and QuantumState to find it."
   ]
  },
  {
   "cell_type": "code",
   "execution_count": 2,
   "id": "fcab28b5-99be-4d28-8ad3-38d29304f96e",
   "metadata": {},
   "outputs": [],
   "source": [
    "import sys\n",
    "sys.path.append('..')\n",
    "from HamiltonianClass import Hamiltonian, QuantumState"
   ]
  },
  {
   "cell_type": "code",
   "execution_count": 5,
   "id": "f53e90a8-0a21-43f9-86bf-23892716a762",
   "metadata": {},
   "outputs": [
    {
     "name": "stdout",
     "output_type": "stream",
     "text": [
      "Matrix size: 6 x 6\n",
      "Basis reduced to spin zero:\n",
      "     0011     0101     0110     1001     1010     1100     \n",
      "\n",
      "        0   0.5000        0        0   0.5000        0\n",
      "   0.5000  -2.0000   0.5000   0.5000        0   0.5000\n",
      "        0   0.5000        0        0   0.5000        0\n",
      "        0   0.5000        0        0   0.5000        0\n",
      "   0.5000        0   0.5000   0.5000  -2.0000   0.5000\n",
      "        0   0.5000        0        0   0.5000        0\n"
     ]
    }
   ],
   "source": [
    "L = 4\n",
    "J = 1\n",
    "delta = 2\n",
    "\n",
    "hamiltonian = Hamiltonian(L, J, delta, is_pbc=True)\n",
    "hamiltonian.truncate_basis_to_spin_zero()\n",
    "hamiltonian.heisenberg_hamiltonian()\n",
    "hamiltonian.print_matrix()"
   ]
  },
  {
   "cell_type": "code",
   "execution_count": 8,
   "id": "f58b065e-fb05-4635-8c18-3de0b27a091a",
   "metadata": {},
   "outputs": [
    {
     "name": "stdout",
     "output_type": "stream",
     "text": [
      "Eigenvalues:\n",
      "  -2.7321e+00\n",
      "  -2.0000e+00\n",
      "  -1.6575e-16\n",
      "   3.2279e-16\n",
      "   3.8577e-16\n",
      "   7.3205e-01\n",
      "Eigenvectors:\n",
      "   2.2985e-01  -1.4376e-16   2.8868e-01  -7.8868e-01  -2.1132e-01  -4.4404e-01\n",
      "  -6.2796e-01  -7.0711e-01   1.5573e-16   6.5225e-23   7.1400e-17  -3.2506e-01\n",
      "   2.2985e-01  -4.2783e-17   2.8868e-01   2.1132e-01   7.8868e-01  -4.4404e-01\n",
      "   2.2985e-01  -1.8072e-16   2.8868e-01   5.7735e-01  -5.7735e-01  -4.4404e-01\n",
      "  -6.2796e-01   7.0711e-01   1.7026e-16   7.5153e-23  -7.1400e-17  -3.2506e-01\n",
      "   2.2985e-01  -1.1056e-16  -8.6603e-01  -7.9133e-17  -7.4552e-16  -4.4404e-01\n"
     ]
    }
   ],
   "source": [
    "hamiltonian.eigenstates()\n",
    "hamiltonian.print_eigenstates()"
   ]
  },
  {
   "cell_type": "code",
   "execution_count": 9,
   "id": "3227cb2b-1465-4a0c-b26f-d7c48dce28a4",
   "metadata": {},
   "outputs": [
    {
     "name": "stdout",
     "output_type": "stream",
     "text": [
      "Ground state has value -2.7321\n",
      "First excited state has value -2.0\n",
      "Energy delta equals 0.7321\n"
     ]
    }
   ],
   "source": [
    "ground_state = round(hamiltonian.get_nth_eigenvalue(0), 4)\n",
    "excited_state = round(hamiltonian.get_nth_eigenvalue(1), 4)\n",
    "energy_delta = round(excited_state - ground_state, 4)\n",
    "\n",
    "print(f'Ground state has value {ground_state}')\n",
    "print(f'First excited state has value {excited_state}')\n",
    "print(f'Energy delta equals {energy_delta}')"
   ]
  },
  {
   "cell_type": "markdown",
   "id": "9e8e0a07-b8f0-43e4-bbf3-45cd6400a9cf",
   "metadata": {},
   "source": [
    "We can check how energy gap changes in different parameter values:"
   ]
  },
  {
   "cell_type": "code",
   "execution_count": 10,
   "id": "8c4e2efd-ff1f-4b1b-a763-ad561c2e9b5a",
   "metadata": {},
   "outputs": [],
   "source": [
    "import ipywidgets"
   ]
  },
  {
   "cell_type": "code",
   "execution_count": 14,
   "id": "897d32ff-6ecf-4dd3-9610-6f99495aee43",
   "metadata": {},
   "outputs": [],
   "source": [
    "def calculate_energy_gap(L=2, J=1, delta=1):\n",
    "    quantum_state = QuantumState(L, J, delta)\n",
    "    energy_delta = round(quantum_state.get_energy_delta(0, 1), 5)\n",
    "    print(f'Energy delta eguals: {energy_delta}')"
   ]
  },
  {
   "cell_type": "code",
   "execution_count": 16,
   "id": "a00b78cd-5f5d-4dfc-88dc-565333324a75",
   "metadata": {},
   "outputs": [
    {
     "data": {
      "application/vnd.jupyter.widget-view+json": {
       "model_id": "4686d4b9baa545f79384390196afa7b2",
       "version_major": 2,
       "version_minor": 0
      },
      "text/plain": [
       "interactive(children=(Dropdown(description='L', options=(2, 3, 4, 5, 6, 7, 8, 9), value=2), FloatSlider(value=…"
      ]
     },
     "metadata": {},
     "output_type": "display_data"
    },
    {
     "data": {
      "text/plain": [
       "<function __main__.calculate_energy_gap(L=2, J=1, delta=1)>"
      ]
     },
     "execution_count": 16,
     "metadata": {},
     "output_type": "execute_result"
    }
   ],
   "source": [
    "ipywidgets.interact(calculate_energy_gap, \n",
    "                    L=[i for i in range(2, 10)],\n",
    "                    J=(-3, 3, 0.2),\n",
    "                    delta=(0, 2, 0.2))"
   ]
  },
  {
   "cell_type": "markdown",
   "id": "fe833f63-bf9e-454d-814f-4000d2ce316d",
   "metadata": {},
   "source": [
    "## <center>Energy gap for different system sizes</center>\n",
    "\n",
    "Now we use class QuantumState to create graphs showing dependence of Energy gap in function of system size inverse:"
   ]
  },
  {
   "cell_type": "code",
   "execution_count": 27,
   "id": "04b0c9c2-2c14-4284-b4f9-1c1d47648e7b",
   "metadata": {},
   "outputs": [],
   "source": [
    "from CommonFunctions import extrapolate_data, polynomial_function_string\n",
    "from matplotlib import pyplot as plt\n",
    "\n",
    "def plot_energy_gap(J=1, delta=1):\n",
    "    if J != 0:\n",
    "        L_list = [2, 4, 6, 8, 10]\n",
    "        inverse_of_L = [round(1 / L, 4) for L in L_list]\n",
    "        energy_gap_range = []\n",
    "        for L in L_list:\n",
    "            quantum_state = QuantumState(L, J, delta, is_pbc=True, is_reduced=True)\n",
    "            energy_gap = quantum_state.get_energy_delta(0, 1) / L\n",
    "            energy_gap_range.append(energy_gap)\n",
    "            \n",
    "        extrapolated_x, extrapolated_y, coefficients = extrapolate_data(inverse_of_L, energy_gap_range)\n",
    "        polynomial = polynomial_function_string(coefficients)\n",
    "    \n",
    "        figure, axes = plt.subplots(1, 1, layout='constrained')\n",
    "        axes.plot(extrapolated_x, extrapolated_y, label=polynomial)\n",
    "        axes.scatter(inverse_of_L, energy_gap_range, color='black')\n",
    "        axes.set(ylim=(0, 1), ylabel='Energy gap', xlabel='1 / L')\n",
    "        axes.grid()\n",
    "        axes.legend(loc='upper left')\n",
    "\n",
    "        plt.show()"
   ]
  },
  {
   "cell_type": "code",
   "execution_count": 28,
   "id": "3aca7278-4efd-4fd8-b836-6ec0d4de81e9",
   "metadata": {},
   "outputs": [
    {
     "data": {
      "application/vnd.jupyter.widget-view+json": {
       "model_id": "a304d73e6d194e11a63d405e253e66ed",
       "version_major": 2,
       "version_minor": 0
      },
      "text/plain": [
       "interactive(children=(FloatSlider(value=1.0, description='J', max=3.0, min=-3.0, step=0.2), FloatSlider(value=…"
      ]
     },
     "metadata": {},
     "output_type": "display_data"
    },
    {
     "data": {
      "text/plain": [
       "<function __main__.plot_energy_gap(J=1, delta=1)>"
      ]
     },
     "execution_count": 28,
     "metadata": {},
     "output_type": "execute_result"
    }
   ],
   "source": [
    "ipywidgets.interact(plot_energy_gap,\n",
    "                    J=(-3, 3, 0.2),\n",
    "                    delta=(0, 2, 0.2))"
   ]
  },
  {
   "cell_type": "code",
   "execution_count": null,
   "id": "4043dd72-2c42-404e-96d6-70384a50c74c",
   "metadata": {},
   "outputs": [],
   "source": []
  }
 ],
 "metadata": {
  "kernelspec": {
   "display_name": "Python 3 (ipykernel)",
   "language": "python",
   "name": "python3"
  },
  "language_info": {
   "codemirror_mode": {
    "name": "ipython",
    "version": 3
   },
   "file_extension": ".py",
   "mimetype": "text/x-python",
   "name": "python",
   "nbconvert_exporter": "python",
   "pygments_lexer": "ipython3",
   "version": "3.9.13"
  }
 },
 "nbformat": 4,
 "nbformat_minor": 5
}
