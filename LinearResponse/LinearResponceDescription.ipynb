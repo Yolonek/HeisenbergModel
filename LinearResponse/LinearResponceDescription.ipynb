{
 "cells": [
  {
   "cell_type": "markdown",
   "id": "08583f96-5d3a-4878-81ea-43535447d316",
   "metadata": {},
   "source": [
    "# <center>Linear Responce</center>\n",
    "\n",
    "Linear response theory is a theoretical framework used to describe how a system responds to an external perturbation (like magnetic field). It provides a way to understand macroscopic responses in terms of microscopic properties. In the context of Heisenberg model we are going to explore <i>spin-wave excitations</i> and energy levels where their response is the strongest. To begin we need a wave vector $q$:\n",
    "\n",
    "### <center>$q = \\frac{2\\pi}{L}$</center>\n",
    "\n",
    "Where $k$ is a wave mode integer and it ranges from $0$ to $L$. We use them to construct a <i>spin-wave operator $\\hat{S}_q^z$</i>:\n",
    "\n",
    "### <center>$\\hat{S}_q^z = \\sum_ie^{lqi}\\hat{S}_i^z$</center>\n",
    "\n",
    "We can see that it sums up spin-projection operators for every spin and multiplies them by complex exponent factor. We can check now the formula for linear response:\n",
    "\n",
    "### <center>$S(q, \\omega) = \\sum_{n, m}\\frac{1}{Z}e^{\\beta\\epsilon_n}|\\langle n|\\hat{S^z_q}|m\\rangle|^2 \\delta(\\omega + \\epsilon_n - \\epsilon_m)$</center>\n",
    "\n",
    "Where $Z = \\sum_ne^{\\beta\\epsilon_n}$ is a <i>partition function</i>, $|n\\rangle$ and $|m\\rangle$ are system's eigenstates. We are using here <i>Dirac's delta function</i>:\n",
    "\n",
    "### <center>$\\delta(\\omega + \\epsilon_n - \\epsilon_m) = 1 \\Leftrightarrow \\omega = \\epsilon_m - \\epsilon_n$</center>\n",
    "\n",
    "and $0$ otherwise. It eliminates terms where $\\omega$ is far from excitation energy. Let's implement it in a code."
   ]
  },
  {
   "cell_type": "code",
   "execution_count": 1,
   "id": "64f904b2-c764-49e0-a479-ab00a9ae04f8",
   "metadata": {},
   "outputs": [],
   "source": [
    "import sys\n",
    "sys.path.append('..')"
   ]
  },
  {
   "cell_type": "code",
   "execution_count": 2,
   "id": "2dad7a3c-a0c3-4494-bfdd-ffc3f1147d48",
   "metadata": {},
   "outputs": [],
   "source": [
    "from OperatorFunctions import wave_vector\n",
    "from CommonFunctions import dirac_delta_function\n",
    "from HamiltonianClass import QuantumState\n",
    "from IPython.display import display, Latex\n",
    "import numpy as np\n",
    "import ipywidgets\n",
    "from matplotlib import pyplot as plt\n",
    "\n",
    "# variable used to improve notation\n",
    "rangle = r'\\rangle'\n",
    "hat_S = r'\\hat{S}'"
   ]
  },
  {
   "cell_type": "code",
   "execution_count": 3,
   "id": "d8d83cc9-ccef-4159-a373-eafc0b17de32",
   "metadata": {},
   "outputs": [],
   "source": [
    "L = 4\n",
    "J = 1\n",
    "delta = 1\n",
    "quantum_state = QuantumState(L, J, delta, is_reduced=True, is_pbc=True)"
   ]
  },
  {
   "cell_type": "markdown",
   "id": "236f89ee-3424-428d-8c07-624d0e9997bd",
   "metadata": {},
   "source": [
    "First we have to create range of $\\omega$. We do it by subtraction:\n",
    "\n",
    "### <center>$\\omega_{max} = \\epsilon_{2^L} - \\epsilon_0$</center>\n",
    "\n",
    "Where $\\epsilon_i$ means <i>ith</i> eigenvalue."
   ]
  },
  {
   "cell_type": "code",
   "execution_count": 4,
   "id": "2061fe4e-a8ea-40dd-83ea-e853d62bf11d",
   "metadata": {},
   "outputs": [
    {
     "data": {
      "text/latex": [
       "$\\omega = 3.0$"
      ],
      "text/plain": [
       "<IPython.core.display.Latex object>"
      ]
     },
     "metadata": {},
     "output_type": "display_data"
    }
   ],
   "source": [
    "omega_max = quantum_state.get_nth_eigenvalue(quantum_state.size - 1) - quantum_state.get_nth_eigenvalue(0)\n",
    "display(Latex(f'$\\omega = {round(omega_max, 2)}$'))"
   ]
  },
  {
   "cell_type": "markdown",
   "id": "cbf2ce6d-e434-4599-8071-1a9176b736e8",
   "metadata": {},
   "source": [
    "Now we create a range from $(-\\omega_{max}, \\omega_{max})$ and we define $bin = 0.1$:"
   ]
  },
  {
   "cell_type": "code",
   "execution_count": 5,
   "id": "14a49547-30d0-44d8-8944-7c1ab5e9af6e",
   "metadata": {},
   "outputs": [
    {
     "name": "stdout",
     "output_type": "stream",
     "text": [
      "[-3.00000000e+00 -2.80000000e+00 -2.60000000e+00 -2.40000000e+00\n",
      " -2.20000000e+00 -2.00000000e+00 -1.80000000e+00 -1.60000000e+00\n",
      " -1.40000000e+00 -1.20000000e+00 -1.00000000e+00 -8.00000000e-01\n",
      " -6.00000000e-01 -4.00000000e-01 -2.00000000e-01  3.55271368e-15\n",
      "  2.00000000e-01  4.00000000e-01  6.00000000e-01  8.00000000e-01\n",
      "  1.00000000e+00  1.20000000e+00  1.40000000e+00  1.60000000e+00\n",
      "  1.80000000e+00  2.00000000e+00  2.20000000e+00  2.40000000e+00\n",
      "  2.60000000e+00  2.80000000e+00]\n"
     ]
    }
   ],
   "source": [
    "bin_ = 0.2\n",
    "omega_range = quantum_state.generate_linspace_of_omega(bin_, boundary=(-omega_max, omega_max))\n",
    "print(omega_range)"
   ]
  },
  {
   "cell_type": "markdown",
   "id": "1f9afe33-bd68-4d96-8a2f-f271c6167e10",
   "metadata": {},
   "source": [
    "And we make use of <i>Dirac's delta function</i> to find a calculated linear response for specific $\\omega$."
   ]
  },
  {
   "cell_type": "code",
   "execution_count": 6,
   "id": "b2c5b0b7-5736-4ab0-b53e-ded2f5a36d4c",
   "metadata": {},
   "outputs": [
    {
     "name": "stdout",
     "output_type": "stream",
     "text": [
      "[0 0 0 0 0 0 0 0 0 0 0 0 0 0 0 0 0 0 0 0 0 0 0 0 0 0 0 0 0 1]\n"
     ]
    }
   ],
   "source": [
    "dirac = np.vectorize(dirac_delta_function)(omega_range, 2.8, bin_)\n",
    "print(dirac)"
   ]
  },
  {
   "cell_type": "markdown",
   "id": "c1b58687-8e02-4c20-aa0f-290323e8fb37",
   "metadata": {},
   "source": [
    "Now we list all possible wave vectors $q$:"
   ]
  },
  {
   "cell_type": "code",
   "execution_count": 7,
   "id": "f3fb0b98-ba30-4d7d-937e-d380fbf1e832",
   "metadata": {},
   "outputs": [
    {
     "name": "stdout",
     "output_type": "stream",
     "text": [
      "[0.0, 1.5707963267948966, 3.141592653589793, 4.71238898038469, 6.283185307179586]\n"
     ]
    }
   ],
   "source": [
    "k_list = [k for k in range(L + 1)]\n",
    "wave_vectors = [wave_vector(L, k) for k in k_list]\n",
    "print(wave_vectors)"
   ]
  },
  {
   "cell_type": "markdown",
   "id": "9f283931-32d0-447c-a1a4-9019451ed401",
   "metadata": {},
   "source": [
    "We can notice that in practice they are just multipliers of $\\frac{\\pi}{2}$"
   ]
  },
  {
   "cell_type": "markdown",
   "id": "79e0f3cc-0f6b-4387-880f-c11526c05242",
   "metadata": {},
   "source": [
    "Now we define $\\hat{S}_q^z$ operator:"
   ]
  },
  {
   "cell_type": "code",
   "execution_count": 8,
   "id": "4c4e0645-4ae9-4d70-8dab-e67f91caf396",
   "metadata": {},
   "outputs": [
    {
     "data": {
      "image/png": "[encoded data removed]",
      "text/plain": [
       "<Figure size 640x480 with 1 Axes>"
      ]
     },
     "metadata": {},
     "output_type": "display_data"
    }
   ],
   "source": [
    "figure1, axes1 = plt.subplots(1, 1, layout='constrained')\n",
    "axes1.set_title('$\\hat{S}_q^z$ operator:')\n",
    "\n",
    "sq_operator = quantum_state.set_sq_operator(wave_vectors[2], assign=False)\n",
    "quantum_state.plot_data(matrix=sq_operator, axes=axes1)\n",
    "plt.show()"
   ]
  },
  {
   "cell_type": "markdown",
   "id": "44452c85-d781-4529-93ad-0b451187566a",
   "metadata": {},
   "source": [
    "And now let's check for different parameters:"
   ]
  },
  {
   "cell_type": "code",
   "execution_count": 9,
   "id": "85512d03-6798-4bad-83e8-fd0f9ff64161",
   "metadata": {},
   "outputs": [],
   "source": [
    "def plot_sq_operator(wave_vector_number=0):\n",
    "    L=4\n",
    "    state = QuantumState(L, 1, 1, is_pbc=True, is_reduced=True)\n",
    "    operator = state.set_sq_operator(wave_vector(L, wave_vector_number), assign=False)\n",
    "    figure, axes = plt.subplots(1, 1, layout='constrained')\n",
    "    axes.set_title('$\\hat{S}_q^z$ operator:')\n",
    "    state.plot_data(matrix=operator, axes=axes)\n",
    "    plt.show()"
   ]
  },
  {
   "cell_type": "code",
   "execution_count": 10,
   "id": "62659da3-2dbb-4ce6-b1b9-1809128c5a89",
   "metadata": {},
   "outputs": [
    {
     "data": {
      "application/vnd.jupyter.widget-view+json": {
       "model_id": "f9e946a2c51e40cf9d0ca270433da5fc",
       "version_major": 2,
       "version_minor": 0
      },
      "text/plain": [
       "interactive(children=(IntSlider(value=0, description='wave_vector_number', max=4), Output()), _dom_classes=('w…"
      ]
     },
     "metadata": {},
     "output_type": "display_data"
    },
    {
     "data": {
      "text/plain": [
       "<function __main__.plot_sq_operator(wave_vector_number=0)>"
      ]
     },
     "execution_count": 10,
     "metadata": {},
     "output_type": "execute_result"
    }
   ],
   "source": [
    "ipywidgets.interact(plot_sq_operator, wave_vector_number=(0, 4, 1))"
   ]
  },
  {
   "cell_type": "markdown",
   "id": "5b38defd-4f5e-44c0-9c03-d5f4e0f6ac59",
   "metadata": {},
   "source": [
    "Now we can calculate linear response $S(q, \\omega)$ for given range of $\\omega$ (in this case we have to specify temperature $T$ of the system):"
   ]
  },
  {
   "cell_type": "code",
   "execution_count": 11,
   "id": "cc818e18-254a-46ef-8a43-2231a0049eb0",
   "metadata": {},
   "outputs": [],
   "source": [
    "def plot_linear_response(J=1, delta=1, k_number=4, T='infinity', bin_=0.1):\n",
    "    if J != 0:\n",
    "        L = 8\n",
    "        state = QuantumState(L, J, delta, is_reduced=True, is_pbc=True)\n",
    "        omega_range = state.generate_linspace_of_omega(bin_)\n",
    "        state.set_sq_operator(k_number)\n",
    "        T = float('inf') if T=='infinity' else T\n",
    "        response = state.calculate_linear_response(omega_range, bin_, T)\n",
    "\n",
    "        figure, axes = plt.subplots(1, 1, layout='constrained')\n",
    "        axes.plot(omega_range, response, color='black')\n",
    "        axes.set(xlabel=f'$\\omega$', ylabel='$S(q, \\omega)$')\n",
    "        temperature = r'\\infty' if T=='infinity' else T\n",
    "        axes.set_title(f'Linear response $S(q, \\omega)$, $T = {temperature}$')\n",
    "        axes.grid()\n",
    "        plt.show()"
   ]
  },
  {
   "cell_type": "code",
   "execution_count": 12,
   "id": "2585fd19-6b92-49b8-884a-1360736b1a5c",
   "metadata": {},
   "outputs": [
    {
     "data": {
      "image/png": "[encoded data removed]",
      "text/plain": [
       "<Figure size 640x480 with 1 Axes>"
      ]
     },
     "metadata": {},
     "output_type": "display_data"
    }
   ],
   "source": [
    "plot_linear_response(J=1, delta=2, k_number=4, T='infinity', bin_=0.1)"
   ]
  },
  {
   "cell_type": "markdown",
   "id": "095c75c4-8d6a-4ba8-8c08-5a3d8d3a04e6",
   "metadata": {},
   "source": [
    "And now let's see all possible graphs below:"
   ]
  },
  {
   "cell_type": "code",
   "execution_count": 13,
   "id": "d7d15148-e5f1-48c4-af30-d90e801e0bb8",
   "metadata": {},
   "outputs": [
    {
     "data": {
      "application/vnd.jupyter.widget-view+json": {
       "model_id": "e452e38ab1b547c4bd661c29a5eb7d2d",
       "version_major": 2,
       "version_minor": 0
      },
      "text/plain": [
       "interactive(children=(FloatSlider(value=1.0, description='J', max=3.0, min=-3.0, step=0.2), FloatSlider(value=…"
      ]
     },
     "metadata": {},
     "output_type": "display_data"
    },
    {
     "data": {
      "text/plain": [
       "<function __main__.plot_linear_response(J=1, delta=1, k_number=4, T='infinity', bin_=0.1)>"
      ]
     },
     "execution_count": 13,
     "metadata": {},
     "output_type": "execute_result"
    }
   ],
   "source": [
    "ipywidgets.interact(plot_linear_response,\n",
    "                    J=(-3, 3, 0.2),\n",
    "                    delta=(0, 2, 0.1),\n",
    "                    k_number=(0, 8, 1),\n",
    "                    T=[0, 0.5, 1, 'infinity'],\n",
    "                    bin_=[0.05, 0.1, 0.2, 0.5])  "
   ]
  },
  {
   "cell_type": "markdown",
   "id": "bc078a59-e7d4-4316-8c6d-5371cd674914",
   "metadata": {},
   "source": [
    "And finally we can create a 2D grid:"
   ]
  },
  {
   "cell_type": "code",
   "execution_count": 14,
   "id": "15b64955-f31f-413b-ad5c-d02630801b52",
   "metadata": {},
   "outputs": [],
   "source": [
    "from matplotlib.colors import LinearSegmentedColormap"
   ]
  },
  {
   "cell_type": "code",
   "execution_count": 15,
   "id": "127a98af-ea50-4e29-b32d-5579329bb67d",
   "metadata": {},
   "outputs": [
    {
     "data": {
      "image/png": "[encoded data removed]",
      "text/plain": [
       "<Figure size 640x480 with 2 Axes>"
      ]
     },
     "metadata": {},
     "output_type": "display_data"
    }
   ],
   "source": [
    "def plot_linear_response_grid(J=1, delta=1, T='infinity', bin_=0.1):\n",
    "    if J != 0:\n",
    "        L = 6\n",
    "        state = QuantumState(L, J, delta, is_reduced=True, is_pbc=True)\n",
    "        omega_range = state.generate_linspace_of_omega(bin_)\n",
    "        k_list = [k for k in range(0, L + 1)]\n",
    "        wave_vecor_range = np.array([wave_vector(L, k) for k in k_list])\n",
    "        T = float('inf') if T=='infinity' else T\n",
    "        temperature = r'\\infty' if T=='infinity' else T\n",
    "\n",
    "        linear_response_grid = None\n",
    "        for wavevector, k in zip(wave_vecor_range, k_list):\n",
    "            state.set_sq_operator(wavevector)\n",
    "            if k == 0:\n",
    "                linear_response_grid = state.calculate_linear_response(omega_range, bin_, T)[:, None]\n",
    "            else:\n",
    "                response = state.calculate_linear_response(omega_range, bin_, T)[:, None]\n",
    "                linear_response_grid = np.concatenate((linear_response_grid, response), axis=1)\n",
    "\n",
    "        figure, axes = plt.subplots(1, 1, layout='constrained')\n",
    "        cmap = LinearSegmentedColormap.from_list('rg', [\"w\", \"r\"], N=256)\n",
    "        sq_min, sq_max = 0, int(linear_response_grid.max())\n",
    "        sq_max = 1 if sq_max == 0 else sq_max\n",
    "\n",
    "        grid = axes.pcolormesh(wave_vecor_range, omega_range, linear_response_grid, \n",
    "                               cmap=cmap, vmin=sq_min, vmax=sq_max)\n",
    "        figure.colorbar(grid, ax=axes)\n",
    "        axes.set(xlabel='$q$', ylabel='$\\omega$')\n",
    "        axes.set_title(f'Linear response $S(q, \\omega)$, $T = {temperature}$')\n",
    "        plt.show()\n",
    "plot_linear_response_grid()"
   ]
  },
  {
   "cell_type": "markdown",
   "id": "21ba9fcd-dae9-45cc-8f97-0d3fd87f7163",
   "metadata": {},
   "source": [
    "... and interact with it:"
   ]
  },
  {
   "cell_type": "code",
   "execution_count": 16,
   "id": "b72d5a5c-16a2-46de-8aa6-db9f3cba21df",
   "metadata": {},
   "outputs": [
    {
     "data": {
      "application/vnd.jupyter.widget-view+json": {
       "model_id": "9865517f2472434197f99332bf78a787",
       "version_major": 2,
       "version_minor": 0
      },
      "text/plain": [
       "interactive(children=(FloatSlider(value=1.0, description='J', max=3.0, min=-3.0, step=0.2), FloatSlider(value=…"
      ]
     },
     "metadata": {},
     "output_type": "display_data"
    },
    {
     "data": {
      "text/plain": [
       "<function __main__.plot_linear_response_grid(J=1, delta=1, T='infinity', bin_=0.1)>"
      ]
     },
     "execution_count": 16,
     "metadata": {},
     "output_type": "execute_result"
    }
   ],
   "source": [
    "ipywidgets.interact(plot_linear_response_grid, \n",
    "                    J=(-3, 3, 0.2),\n",
    "                    delta=(0, 2, 0.1),\n",
    "                    T=[0, 0.5, 1, 'infinity'],\n",
    "                    bin_=[0.05, 0.1, 0.2, 0.5])"
   ]
  },
  {
   "cell_type": "code",
   "execution_count": null,
   "id": "318bcd86-e629-49bb-a2c3-249f5bf039dc",
   "metadata": {},
   "outputs": [],
   "source": []
  }
 ],
 "metadata": {
  "kernelspec": {
   "display_name": "Python 3 (ipykernel)",
   "language": "python",
   "name": "python3"
  },
  "language_info": {
   "codemirror_mode": {
    "name": "ipython",
    "version": 3
   },
   "file_extension": ".py",
   "mimetype": "text/x-python",
   "name": "python",
   "nbconvert_exporter": "python",
   "pygments_lexer": "ipython3",
   "version": "3.9.13"
  }
 },
 "nbformat": 4,
 "nbformat_minor": 5
}
