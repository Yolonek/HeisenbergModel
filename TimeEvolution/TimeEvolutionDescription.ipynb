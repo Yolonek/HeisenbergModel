{
 "cells": [
  {
   "cell_type": "markdown",
   "id": "0fd9a5e3-391d-4d37-98f0-fe002cb2e74f",
   "metadata": {},
   "source": [
    "# <center>Time Evolution</center>\n",
    "\n",
    "In quantum mechanics time evolution follows a deterministic rule for the wave function. The amplitudes for eigenstates are time dependent, but outcomes of measurements are inherently probabilistic. Time dependence is described by Time Dependent Schrodinger Equation:\n",
    "\n",
    "### <center>$i\\hbar \\frac{d|\\psi(t)\\rangle}{dt} = \\hat{H}|\\psi(t)\\rangle$</center>\n",
    "\n",
    "Solving it leads to introduction of the time evolution operator:\n",
    "\n",
    "### <center>$\\hat{U}(t) = e^{\\frac{-i\\hat{H}t}{\\hbar}}$</center>\n",
    "\n",
    "Hence we get the time evolution for the wave function:\n",
    "\n",
    "### <center>$|\\psi(t)\\rangle = \\hat{U}(t)|\\psi(t_0)\\rangle = e^{\\frac{-i\\hat{H}t}{\\hbar}}|\\psi(t_0)\\rangle$</center>\n",
    "\n",
    "We can extend it by taking hamiltonian eigenstates $\\sum_n|n\\rangle\\langle n| = 1$ and eigenvalues $\\epsilon_n$ into account:\n",
    "\n",
    "### <center>$|\\psi(t)\\rangle = e^{\\frac{-i\\hat{H}t}{\\hbar}}|\\psi(t_0)\\rangle = \\sum_ne^{\\frac{-i\\epsilon_nt}{\\hbar}}|n\\rangle\\langle n|\\psi(0)\\rangle = \\sum_nc_n(t)|n\\rangle$</center>\n",
    "\n",
    "Where $c_n(t)$ is a probability amplitude of an eigenstate $|n\\rangle$ changing in time.\n",
    "\n",
    "### <center>$c_n(t) = e^{\\frac{-i\\epsilon_nt}{\\hbar}\\langle n|\\psi(0)\\rangle}$</center>\n",
    "\n",
    "And last but not least we need an observable $\\langle \\hat{A}\\rangle$ to make quantitative predictions. In our case we will use introduced before spin-projection operator $\\langle \\hat{S}_i^z\\rangle$:\n",
    "\n",
    "### <center>$\\langle \\hat{S}_i^z\\rangle(t) = \\langle\\psi(t)|\\hat{S}_i^z|\\psi(t)\\rangle$</center>\n",
    "\n",
    "And for each spin $i$ we are going to create its own spin operator."
   ]
  },
  {
   "cell_type": "markdown",
   "id": "13447a9c-1b60-4f91-948e-464ab2090daa",
   "metadata": {},
   "source": [
    "Let's implement it in a code:"
   ]
  },
  {
   "cell_type": "code",
   "execution_count": 1,
   "id": "e862c3be-77d7-4c28-a010-b2a25098ab3c",
   "metadata": {},
   "outputs": [],
   "source": [
    "import sys\n",
    "sys.path.append('..')"
   ]
  },
  {
   "cell_type": "code",
   "execution_count": 2,
   "id": "148f7354-2fea-47ae-903f-33247e208d64",
   "metadata": {},
   "outputs": [],
   "source": [
    "from OperatorFunctions import create_initial_state, s_z_total\n",
    "from HamiltonianClass import QuantumState\n",
    "from IPython.display import display, Latex\n",
    "\n",
    "# variable used to improve notation\n",
    "rangle = r'\\rangle'\n",
    "hat_S = r'\\hat{S}'"
   ]
  },
  {
   "cell_type": "markdown",
   "id": "c5f521f0-4136-4980-879c-7bfd46e90c21",
   "metadata": {},
   "source": [
    "To begin we need a way to input an arbitrary initial state. By default it makes half of the system in the state $|\\uparrow\\rangle$ and other half $|\\downarrow\\rangle$. It uses function <i>create_initial_state</i> to achieve it:"
   ]
  },
  {
   "cell_type": "code",
   "execution_count": 3,
   "id": "5257eb93-e6e4-4a29-ad10-70d8a701e14f",
   "metadata": {},
   "outputs": [
    {
     "data": {
      "text/latex": [
       "The initial state is $|1111111100000000\\rangle$"
      ],
      "text/plain": [
       "<IPython.core.display.Latex object>"
      ]
     },
     "metadata": {},
     "output_type": "display_data"
    }
   ],
   "source": [
    "L = 16\n",
    "initial_state = create_initial_state(L)\n",
    "display(Latex(f'The initial state is $|{initial_state}' + r'\\rangle$'))"
   ]
  },
  {
   "cell_type": "markdown",
   "id": "c0d470ef-6163-4e99-a7b4-e3e7ee25910f",
   "metadata": {},
   "source": [
    "Where $|1\\rangle$ and $|0\\rangle$ are equivalent to $|\\uparrow\\rangle$ and $|\\downarrow\\rangle$ respectfully."
   ]
  },
  {
   "cell_type": "markdown",
   "id": "2b432907-6fb8-4007-be1d-774537d7cf67",
   "metadata": {},
   "source": [
    "We also need a way to convert state given as <i>string</i> to a state vector. To do this we need a function <i>set_basis_element_to_state_vector</i>, which is built in <i>QuantumState</i> object. "
   ]
  },
  {
   "cell_type": "code",
   "execution_count": 4,
   "id": "cd89bb7d-4814-46e5-ade4-8841904dbf81",
   "metadata": {},
   "outputs": [],
   "source": [
    "L = 4\n",
    "J = 1\n",
    "delta = 1\n",
    "quantum_state = QuantumState(L, J, delta, is_reduced=True)"
   ]
  },
  {
   "cell_type": "markdown",
   "id": "b5b811d5-5b99-439a-8876-de1592f7a4b8",
   "metadata": {},
   "source": [
    "<i>QuantumState</i> instance by default sets state vector to lowest eigenstate:"
   ]
  },
  {
   "cell_type": "code",
   "execution_count": 5,
   "id": "6969807a-f729-4ffc-bd5a-e926b3fb5c48",
   "metadata": {},
   "outputs": [
    {
     "name": "stdout",
     "output_type": "stream",
     "text": [
      "- 0.1494|0011> + 0.5577|0101> - 0.4082|0110> - 0.4082|1001> + 0.5577|1010> - 0.1494|1100>\n"
     ]
    }
   ],
   "source": [
    "quantum_state.print_state_vector()"
   ]
  },
  {
   "cell_type": "markdown",
   "id": "1e8d2490-e2a4-4c7c-be02-5785cf1c350d",
   "metadata": {},
   "source": [
    "Now we change it. Keep in mind that its length has to be the same as $L$ and in case of reduced hamiltonian we can't set vectors which total spin is non-zero ($S^z_{tot} \\neq 0$). Otherwise function will print an error message and won't make any changes."
   ]
  },
  {
   "cell_type": "code",
   "execution_count": 6,
   "id": "2a56b1b8-5205-44a8-a773-c45a685ddf13",
   "metadata": {},
   "outputs": [
    {
     "name": "stdout",
     "output_type": "stream",
     "text": [
      "1.0|1100>\n"
     ]
    }
   ],
   "source": [
    "quantum_state.set_basis_element_to_state_vector('1100')\n",
    "initial_state = quantum_state.get_state_vector()\n",
    "quantum_state.print_state_vector()"
   ]
  },
  {
   "cell_type": "code",
   "execution_count": 7,
   "id": "d152c540-62e8-4984-bcd2-caac99461e83",
   "metadata": {},
   "outputs": [
    {
     "name": "stdout",
     "output_type": "stream",
     "text": [
      "[ERROR] Given state is not in current basis\n"
     ]
    }
   ],
   "source": [
    "quantum_state.set_basis_element_to_state_vector('111000')"
   ]
  },
  {
   "cell_type": "code",
   "execution_count": 8,
   "id": "49c0a637-9beb-4c46-9b80-b968719a9fb6",
   "metadata": {},
   "outputs": [
    {
     "name": "stdout",
     "output_type": "stream",
     "text": [
      "[ERROR] Given state is not in current basis\n"
     ]
    }
   ],
   "source": [
    "quantum_state.set_basis_element_to_state_vector('1111')"
   ]
  },
  {
   "cell_type": "markdown",
   "id": "1588558a-796a-40fa-b7ca-7c8339588dfc",
   "metadata": {},
   "source": [
    "We can calculate $c_n(t)$ for an arbitrary eigenstate:"
   ]
  },
  {
   "cell_type": "code",
   "execution_count": 9,
   "id": "1e497aa0-ba67-4076-8c3c-40a2aea27f46",
   "metadata": {},
   "outputs": [
    {
     "data": {
      "text/latex": [
       "$c_n(t)$ equals (-0.5539280468996853-0.06455968418427246j) for time 1 and eigenstate $|3\\rangle$"
      ],
      "text/plain": [
       "<IPython.core.display.Latex object>"
      ]
     },
     "metadata": {},
     "output_type": "display_data"
    }
   ],
   "source": [
    "eigenstate_number = 3\n",
    "time_value = 1\n",
    "c_n = quantum_state.coefficient_c_of_t(time_value, eigenstate_number)\n",
    "display(Latex(f'$c_n(t)$ equals {c_n} for time {time_value} and eigenstate $|{eigenstate_number}{rangle}$'))"
   ]
  },
  {
   "cell_type": "markdown",
   "id": "1ab2f5ea-a882-41ab-81c5-ccf4a4eb0c73",
   "metadata": {},
   "source": [
    "We can store coefficient $c_n(t)$ for every eigenstate as a vector:"
   ]
  },
  {
   "cell_type": "code",
   "execution_count": 10,
   "id": "1ba6c971-e64b-4aae-9e7b-286497a34218",
   "metadata": {},
   "outputs": [
    {
     "name": "stdout",
     "output_type": "stream",
     "text": [
      "    (+6.756e-03,+1.493e-01)\n",
      "    (+1.558e-01,-2.212e-01)\n",
      "                      (0,0)\n",
      "    (-5.539e-01,-6.456e-02)\n",
      "    (-5.862e-01,-2.883e-01)\n",
      "    (-2.987e-01,-2.783e-01)\n"
     ]
    }
   ],
   "source": [
    "c_n_range = quantum_state.coefficient_c_of_t_for_all_eigenvalues(time_value)\n",
    "c_n_range.print()"
   ]
  },
  {
   "cell_type": "markdown",
   "id": "1091954b-bfa1-4435-a76b-d3801342b724",
   "metadata": {},
   "source": [
    "We can see that 4th row prints the same value as cell before.\n",
    "\n",
    "Now we have to multiply each eigenvalue $n$ by its index-wise eigenstate $|n\\rangle$ and then add all vectors together. It is done by code below:"
   ]
  },
  {
   "cell_type": "code",
   "execution_count": 11,
   "id": "769d87ed-641f-4d9a-9ccf-054418a45156",
   "metadata": {},
   "outputs": [
    {
     "data": {
      "text/latex": [
       "$|\\psi(t=1)\\rangle$:"
      ],
      "text/plain": [
       "<IPython.core.display.Latex object>"
      ]
     },
     "metadata": {},
     "output_type": "display_data"
    },
    {
     "name": "stdout",
     "output_type": "stream",
     "text": [
      "    (+4.723e-03,-1.194e-03)\n",
      "    (-1.388e-02,-3.533e-02)\n",
      "    (-1.070e-01,+2.631e-02)\n",
      "    (-1.070e-01,+2.631e-02)\n",
      "    (+9.977e-02,+4.097e-01)\n",
      "    (+8.550e-01,+2.558e-01)\n"
     ]
    }
   ],
   "source": [
    "time_evolution = quantum_state.quantum_state_of_t(time_value)\n",
    "display(Latex(f'$|\\psi(t={time_value}){rangle}$:'))\n",
    "time_evolution.print()"
   ]
  },
  {
   "cell_type": "markdown",
   "id": "147873a1-54de-4e66-8e81-c28d51bfbfdc",
   "metadata": {},
   "source": [
    "Note that first column is a real value of amplitudes and second column is its imaginary part. Whole state has changed significantly since its initial state:"
   ]
  },
  {
   "cell_type": "code",
   "execution_count": 12,
   "id": "b5851ef2-e007-4879-bcec-84fd175a5e1d",
   "metadata": {},
   "outputs": [
    {
     "data": {
      "text/latex": [
       "$|\\psi(t=0)\\rangle$:"
      ],
      "text/plain": [
       "<IPython.core.display.Latex object>"
      ]
     },
     "metadata": {},
     "output_type": "display_data"
    },
    {
     "name": "stdout",
     "output_type": "stream",
     "text": [
      "        0\n",
      "        0\n",
      "        0\n",
      "        0\n",
      "        0\n",
      "   1.0000\n"
     ]
    }
   ],
   "source": [
    "display(Latex(r'$|\\psi(t=0)\\rangle$:'))\n",
    "initial_state.print()"
   ]
  },
  {
   "cell_type": "markdown",
   "id": "d53593ff-1a05-4731-8de6-02b275f1cadf",
   "metadata": {},
   "source": [
    "Note that if we set one of eigenstates as initial vector, it won't change in time (analytically). That's why we call them stationary states."
   ]
  },
  {
   "cell_type": "code",
   "execution_count": 13,
   "id": "031a74f2-d929-4cfb-92d6-b1dc7c690c7c",
   "metadata": {},
   "outputs": [
    {
     "data": {
      "text/latex": [
       "$|\\psi(t=0)\\rangle$:"
      ],
      "text/plain": [
       "<IPython.core.display.Latex object>"
      ]
     },
     "metadata": {},
     "output_type": "display_data"
    },
    {
     "name": "stdout",
     "output_type": "stream",
     "text": [
      "        0\n",
      "        0\n",
      "  -0.7071\n",
      "   0.7071\n",
      "        0\n",
      "        0\n"
     ]
    },
    {
     "data": {
      "text/latex": [
       "$|\\psi(t=1\\rangle$:"
      ],
      "text/plain": [
       "<IPython.core.display.Latex object>"
      ]
     },
     "metadata": {},
     "output_type": "display_data"
    },
    {
     "name": "stdout",
     "output_type": "stream",
     "text": [
      "    (+4.325e-17,-1.902e-17)\n",
      "    (-7.726e-17,-1.111e-16)\n",
      "    (-6.851e-01,+1.749e-01)\n",
      "    (+6.851e-01,-1.749e-01)\n",
      "    (-7.726e-17,-1.111e-16)\n",
      "    (+4.325e-17,-1.902e-17)\n"
     ]
    }
   ],
   "source": [
    "quantum_state.set_vector_from_eigenstate(2)\n",
    "\n",
    "display(Latex(r'$|\\psi(t=0)\\rangle$:'))\n",
    "quantum_state.get_state_vector().print()\n",
    "\n",
    "display(Latex(f'$|\\psi(t={time_value}{rangle}$:'))\n",
    "quantum_state.quantum_state_of_t(time_value).print()"
   ]
  },
  {
   "cell_type": "markdown",
   "id": "7c2508a2-3dc9-4bd9-bb17-0ac0c52fa14a",
   "metadata": {},
   "source": [
    "But because of small imprecisions in floating points and binary computation it changes slightly. Various configuration can be checked below:"
   ]
  },
  {
   "cell_type": "code",
   "execution_count": 14,
   "id": "c1f4be16-e94d-4956-9700-79938bac2df6",
   "metadata": {},
   "outputs": [],
   "source": [
    "from CommonFunctions import generate_binary_strings\n",
    "import ipywidgets\n",
    "from matplotlib import pyplot as plt"
   ]
  },
  {
   "cell_type": "code",
   "execution_count": 15,
   "id": "9d50fbbe-9762-4f91-a8ea-39a516dda7b3",
   "metadata": {},
   "outputs": [],
   "source": [
    "def plot_state_vector(initial_vector='0000', time=0):\n",
    "    state = QuantumState(4, 1, 1)\n",
    "    state.set_basis_element_to_state_vector(initial_vector)\n",
    "    state_vector = state.get_state_vector()\n",
    "    time_evolution_vector = state.quantum_state_of_t(time)\n",
    "    \n",
    "    figure, axes = plt.subplots(1, 2, layout='constrained')\n",
    "    state.plot_data(matrix=state_vector, axes=axes[0])\n",
    "    axes[0].set_title(f'$|\\psi(t=0){rangle} = |{initial_vector}{rangle}$')\n",
    "    state.plot_data(matrix=time_evolution_vector, axes=axes[1])\n",
    "    axes[1].set_title(f'$|\\psi(t={time}){rangle}$')\n",
    "\n",
    "    plt.show()"
   ]
  },
  {
   "cell_type": "code",
   "execution_count": 16,
   "id": "51cf5e70-d02d-4ff8-9137-e90844211b92",
   "metadata": {},
   "outputs": [
    {
     "data": {
      "application/vnd.jupyter.widget-view+json": {
       "model_id": "5547e0bfa0774751bc3575130c017a3d",
       "version_major": 2,
       "version_minor": 0
      },
      "text/plain": [
       "interactive(children=(Dropdown(description='initial_vector', options=('0000', '0001', '0010', '0011', '0100', …"
      ]
     },
     "metadata": {},
     "output_type": "display_data"
    },
    {
     "data": {
      "text/plain": [
       "<function __main__.plot_state_vector(initial_vector='0000', time=0)>"
      ]
     },
     "execution_count": 16,
     "metadata": {},
     "output_type": "execute_result"
    }
   ],
   "source": [
    "ipywidgets.interact(plot_state_vector, \n",
    "                    initial_vector=generate_binary_strings(4),\n",
    "                    time=(0, 10, 0.1))"
   ]
  },
  {
   "cell_type": "markdown",
   "id": "8d590ff0-d789-483e-a317-1399cea722a6",
   "metadata": {},
   "source": [
    "Now we can introduce spin operator $\\hat{S}_i^z$. It works the same way as it was shown in <i>ModelDescryption.ipynb</i>, but now we have to scale its size from matrix $2\\times2$ to the same size as hamiltonian."
   ]
  },
  {
   "cell_type": "code",
   "execution_count": 17,
   "id": "8dd62b1b-5141-4683-a675-1d37359e91b9",
   "metadata": {},
   "outputs": [
    {
     "name": "stdout",
     "output_type": "stream",
     "text": [
      "  -0.5000        0        0        0        0        0\n",
      "        0  -0.5000        0        0        0        0\n",
      "        0        0  -0.5000        0        0        0\n",
      "        0        0        0   0.5000        0        0\n",
      "        0        0        0        0   0.5000        0\n",
      "        0        0        0        0        0   0.5000\n"
     ]
    }
   ],
   "source": [
    "spin_operator = quantum_state.set_spin_operator(0, assign=False)\n",
    "spin_operator.print()"
   ]
  },
  {
   "cell_type": "markdown",
   "id": "7b1d37e2-e57b-4cf7-a1b8-a2aa2c2ef3e0",
   "metadata": {},
   "source": [
    "We create different operetor for each spin number to get its time evolution. It differs mostly by minus signs in different diagonal elements."
   ]
  },
  {
   "cell_type": "code",
   "execution_count": 18,
   "id": "bcb239c1-b266-4290-afa6-9f0c8916afcf",
   "metadata": {},
   "outputs": [],
   "source": [
    "def print_spin_operator(spin_number=0):\n",
    "    state = QuantumState(3, 1, 1)\n",
    "    spin_operator = state.set_spin_operator(spin_number, assign=False)\n",
    "    spin_operator.print()"
   ]
  },
  {
   "cell_type": "code",
   "execution_count": 19,
   "id": "3750bea9-1c55-4d31-ac0f-4c942fc9a271",
   "metadata": {},
   "outputs": [
    {
     "data": {
      "application/vnd.jupyter.widget-view+json": {
       "model_id": "35b5aa8fff844164a47c6c19348d427a",
       "version_major": 2,
       "version_minor": 0
      },
      "text/plain": [
       "interactive(children=(IntSlider(value=0, description='spin_number', max=2), Output()), _dom_classes=('widget-i…"
      ]
     },
     "metadata": {},
     "output_type": "display_data"
    },
    {
     "data": {
      "text/plain": [
       "<function __main__.print_spin_operator(spin_number=0)>"
      ]
     },
     "execution_count": 19,
     "metadata": {},
     "output_type": "execute_result"
    }
   ],
   "source": [
    "ipywidgets.interact(print_spin_operator,\n",
    "                    spin_number=(0, 2, 1))"
   ]
  },
  {
   "cell_type": "markdown",
   "id": "6a576833-17b8-4111-adcc-ba3e4b681cea",
   "metadata": {},
   "source": [
    "Now we can calculate expected value $\\langle\\hat{S}^z_i\\rangle$ for spin operators."
   ]
  },
  {
   "cell_type": "code",
   "execution_count": 20,
   "id": "9ed4b0b3-1722-4aca-a2f7-54c3ddca5c2a",
   "metadata": {},
   "outputs": [],
   "source": [
    "def operator_expected_value(spin_number=0, time_value=0):\n",
    "    state = QuantumState(4, 1, 0, is_reduced=True)\n",
    "    state.set_basis_element_to_state_vector('1100')\n",
    "    state.set_spin_operator(spin_number)\n",
    "    exp_value = state.operator_time_evolution(time_value)\n",
    "    display(Latex(f'The result of computation: $\\langle{hat_S}_{spin_number}^z{rangle} = {exp_value}$'))"
   ]
  },
  {
   "cell_type": "code",
   "execution_count": 21,
   "id": "ab425662-db04-4df4-843d-411403139179",
   "metadata": {},
   "outputs": [
    {
     "data": {
      "application/vnd.jupyter.widget-view+json": {
       "model_id": "262e2956650549629f0d55609397ba6a",
       "version_major": 2,
       "version_minor": 0
      },
      "text/plain": [
       "interactive(children=(IntSlider(value=0, description='spin_number', max=3), FloatSlider(value=0.0, description…"
      ]
     },
     "metadata": {},
     "output_type": "display_data"
    },
    {
     "data": {
      "text/plain": [
       "<function __main__.operator_expected_value(spin_number=0, time_value=0)>"
      ]
     },
     "execution_count": 21,
     "metadata": {},
     "output_type": "execute_result"
    }
   ],
   "source": [
    "ipywidgets.interact(operator_expected_value,\n",
    "                    spin_number=(0, 3, 1),\n",
    "                    time_value=(0, 20, 0.1))"
   ]
  },
  {
   "cell_type": "markdown",
   "id": "a67e5f3e-aadd-413f-8cfe-2e55e9b22201",
   "metadata": {},
   "source": [
    "Now let's plot it on a graph and tweak with every parameter:"
   ]
  },
  {
   "cell_type": "code",
   "execution_count": 22,
   "id": "f48ac879-d601-43ed-aa0f-0beb7ceac9d5",
   "metadata": {},
   "outputs": [],
   "source": [
    "import numpy as np\n",
    "time_range = np.linspace(0, 20, 100)"
   ]
  },
  {
   "cell_type": "code",
   "execution_count": 23,
   "id": "6f163641-03f9-4dcc-90ee-c53be5f6cfc8",
   "metadata": {},
   "outputs": [],
   "source": [
    "def plot_spin_time_evolution(J=1, delta=0, spin_number=0, initial_state='0011'):\n",
    "    if J != 0:\n",
    "        state = QuantumState(4, J, delta, is_reduced=True)\n",
    "        state.set_basis_element_to_state_vector(initial_state)\n",
    "        state.set_spin_operator(spin_number)\n",
    "        time_evolution_function = state.operator_time_evolution_vectorized()\n",
    "        spin_value_range = time_evolution_function(time_range)\n",
    "    \n",
    "        figure, axes = plt.subplots(1, 1, layout='constrained')\n",
    "        axes.plot(time_range, spin_value_range, color='black')\n",
    "        axes.set(title=f'Spin magnetization in function of time $\\langle{hat_S}_{spin_number}^z{rangle}(t)$',\n",
    "                 ylabel=f'$\\langle{hat_S}_i^z{rangle}$',\n",
    "                 ylim=[-0.6, 0.6],\n",
    "                 xlabel='time')\n",
    "        axes.yaxis.label.set(rotation=0)\n",
    "        axes.grid()\n",
    "        plt.show()"
   ]
  },
  {
   "cell_type": "code",
   "execution_count": 24,
   "id": "825daabb-9075-4d2c-b609-195658283f93",
   "metadata": {},
   "outputs": [
    {
     "data": {
      "application/vnd.jupyter.widget-view+json": {
       "model_id": "e14c3aea459743498d1074944c8721a5",
       "version_major": 2,
       "version_minor": 0
      },
      "text/plain": [
       "interactive(children=(FloatSlider(value=1.0, description='J', max=5.0, min=-5.0, step=0.2), FloatSlider(value=…"
      ]
     },
     "metadata": {},
     "output_type": "display_data"
    },
    {
     "data": {
      "text/plain": [
       "<function __main__.plot_spin_time_evolution(J=1, delta=0, spin_number=0, initial_state='0011')>"
      ]
     },
     "execution_count": 24,
     "metadata": {},
     "output_type": "execute_result"
    }
   ],
   "source": [
    "ipywidgets.interact(plot_spin_time_evolution,\n",
    "                    J=(-5, 5, 0.2),\n",
    "                    delta=(0, 3, 0.1),\n",
    "                    spin_number=(0, 3, 1),\n",
    "                    initial_state=['0011', '0101', '0110', '1001', '1010', '1100'])"
   ]
  },
  {
   "cell_type": "markdown",
   "id": "b267473e-97fe-49d4-b4ea-42867c7e12d8",
   "metadata": {},
   "source": [
    "Now let's use 2D grid to better visualize the time evolution of the whole system:"
   ]
  },
  {
   "cell_type": "code",
   "execution_count": 25,
   "id": "d654277b-908b-4583-8061-a2dca026fcca",
   "metadata": {},
   "outputs": [],
   "source": [
    "# Function to restrict interactive text\n",
    "def restrict_input(change):\n",
    "    allowed_chars = '01'\n",
    "    max_length = 8\n",
    "    change['new'] = ''.join([char for char in change['new'] if char in allowed_chars])\n",
    "    change['new'] = change['new'][0:max_length]\n",
    "    restricted_text.value = change['new']\n",
    "restricted_text = ipywidgets.Text(value='000111')\n",
    "restricted_text.observe(restrict_input, names='value')"
   ]
  },
  {
   "cell_type": "code",
   "execution_count": 26,
   "id": "75d7e5fe-3e54-4f12-ba22-1c3a7168071b",
   "metadata": {},
   "outputs": [],
   "source": [
    "def plot_spin_time_evolution_grid(J=1, delta=0, initial_state='000111', pbc=False):\n",
    "    L = len(initial_state)\n",
    "    if J != 0 and L > 1:\n",
    "        spin_range = np.arange(1, L + 1, 1)\n",
    "        reduced = True if s_z_total(initial_state) == 0 else False\n",
    "        state = QuantumState(L, J, delta, is_reduced=reduced, is_pbc=pbc)\n",
    "        state.set_basis_element_to_state_vector(initial_state)\n",
    "        time_evolution_function = state.operator_time_evolution_vectorized()\n",
    "        time_evolution_grid = None\n",
    "        for spin_number in range(L):\n",
    "            state.set_spin_operator(spin_number)\n",
    "            if spin_number == 0:\n",
    "                time_evolution_grid = time_evolution_function(time_range)[:, None]\n",
    "            else:\n",
    "                time_evolution = time_evolution_function(time_range)[:, None]\n",
    "                time_evolution_grid = np.concatenate((time_evolution_grid, time_evolution), axis=1)\n",
    "        \n",
    "        figure, axes = plt.subplots(1, 1, layout='constrained')\n",
    "        axes.set_title(f'Time evolution for initial state $|{initial_state}{rangle}$')\n",
    "        grid = axes.pcolormesh(spin_range, time_range, time_evolution_grid,\n",
    "                               cmap='RdBu', vmin=-0.5, vmax=0.5)\n",
    "        figure.colorbar(grid, ax=axes)\n",
    "        axes.set(xlabel='ith state', ylabel='time')\n",
    "    \n",
    "        plt.show()"
   ]
  },
  {
   "cell_type": "code",
   "execution_count": 27,
   "id": "25dae095-8780-470c-b3e4-a73f1dd592d3",
   "metadata": {},
   "outputs": [
    {
     "data": {
      "application/vnd.jupyter.widget-view+json": {
       "model_id": "812538c02d264584868192c916fbdaae",
       "version_major": 2,
       "version_minor": 0
      },
      "text/plain": [
       "interactive(children=(FloatSlider(value=1.0, description='J', max=5.0, min=-5.0, step=0.2), FloatSlider(value=…"
      ]
     },
     "metadata": {},
     "output_type": "display_data"
    },
    {
     "data": {
      "text/plain": [
       "<function __main__.plot_spin_time_evolution_grid(J=1, delta=0, initial_state='000111', pbc=False)>"
      ]
     },
     "execution_count": 27,
     "metadata": {},
     "output_type": "execute_result"
    }
   ],
   "source": [
    "ipywidgets.interact(plot_spin_time_evolution_grid,\n",
    "                    initial_state=restricted_text,\n",
    "                    J=(-5, 5, 0.2),\n",
    "                    delta=(0, 3, 0.1),\n",
    "                    pbc=ipywidgets.Checkbox(description='Perdiodic Boundary Conditions'))"
   ]
  },
  {
   "cell_type": "code",
   "execution_count": null,
   "id": "40dabf48-f842-40f2-9d80-f98b22b089b0",
   "metadata": {},
   "outputs": [],
   "source": []
  }
 ],
 "metadata": {
  "kernelspec": {
   "display_name": "Python 3 (ipykernel)",
   "language": "python",
   "name": "python3"
  },
  "language_info": {
   "codemirror_mode": {
    "name": "ipython",
    "version": 3
   },
   "file_extension": ".py",
   "mimetype": "text/x-python",
   "name": "python",
   "nbconvert_exporter": "python",
   "pygments_lexer": "ipython3",
   "version": "3.9.13"
  }
 },
 "nbformat": 4,
 "nbformat_minor": 5
}
