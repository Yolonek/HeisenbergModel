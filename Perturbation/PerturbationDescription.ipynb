{
 "cells": [
  {
   "cell_type": "markdown",
   "id": "189f5b8d-2617-4180-9e5a-f89385298c93",
   "metadata": {},
   "source": [
    "# <center>Perturbation</cemter>"
   ]
  },
  {
   "cell_type": "code",
   "execution_count": null,
   "id": "7d72aa6f-bf99-437e-bdfe-53574893fb4b",
   "metadata": {},
   "outputs": [],
   "source": []
  }
 ],
 "metadata": {
  "kernelspec": {
   "display_name": "Python 3 (ipykernel)",
   "language": "python",
   "name": "python3"
  },
  "language_info": {
   "codemirror_mode": {
    "name": "ipython",
    "version": 3
   },
   "file_extension": ".py",
   "mimetype": "text/x-python",
   "name": "python",
   "nbconvert_exporter": "python",
   "pygments_lexer": "ipython3",
   "version": "3.9.13"
  }
 },
 "nbformat": 4,
 "nbformat_minor": 5
}
