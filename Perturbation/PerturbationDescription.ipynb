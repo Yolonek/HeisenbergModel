{
 "cells": [
  {
   "cell_type": "markdown",
   "id": "189f5b8d-2617-4180-9e5a-f89385298c93",
   "metadata": {},
   "source": [
    "# <center>Perturbation</center>\n",
    "\n",
    "Now we try to get similar results as in <i>Linear Response</i> part of the project, but now we are not going to use Linear Response Theory. Instead we'll modify Heisenberg model hamiltonian by adding a small perturbation to it. Perturbation Theory is a powerful approximation used to get insights into slightly disrupted quantum system. In our case perturbation is going to be:\n",
    "\n",
    "### <center>$\\delta\\hat{H}(t < 0) = h\\sum_icos(qi)\\hat{S}_i^z$</center>\n",
    "\n",
    "Where $\\delta\\hat{H}(t < 0)$ is a perturbation calculated for negative time before we start calculating operator's $\\hat{S}_i^z$ time evolution, $cos(qi)$ will create wave modulations and $h$ is a factor we're going to optimize to get satisfying results. Added to our unperturbed hamiltonian we get:\n",
    "\n",
    "### <center>$\\hat{H}_P = \\frac{J}{2}\\sum_{i=1}^{L-1}\\left(\\hat{S}_i^+\\hat{S}_{i+1}^- + \\hat{S}_i^-\\hat{S}_{i+1}^+ \\right) + J\\Delta\\sum_{i=1}^{L-1}\\hat{S}_i^z\\hat{S}_{i+1}^z + \\delta\\hat{H}(t < 0)$</center>\n",
    "\n",
    "After creating the hamiltonian we evolve in time the ground state $|\\psi_0\\rangle$:\n",
    "\n",
    "### <center>$\\langle \\hat{S}_i^z\\rangle(t) = \\langle \\psi_0(t)|\\hat{S}_i^z|\\psi_0(t)\\rangle$</center>\n",
    "\n",
    "Then we store the dynamic behavior of considered system and apply a <i>Fourier Transform</i> to it:\n",
    "\n",
    "## <center>$\\tilde{S}(q, \\omega) = \\left| \\sum_ie^{lqi}\\sum_te^{i\\omega t}\\langle \\hat{S}_i^z(t)\\rangle\\right|^2$</center>\n",
    "\n",
    "Which should get us the same <i>Linear Response</i>. $l$ is an imaginary unit. Let's implement it in a code."
   ]
  },
  {
   "cell_type": "code",
   "execution_count": 1,
   "id": "7d72aa6f-bf99-437e-bdfe-53574893fb4b",
   "metadata": {},
   "outputs": [],
   "source": [
    "import sys\n",
    "sys.path.append('..')"
   ]
  },
  {
   "cell_type": "code",
   "execution_count": 2,
   "id": "3c996971-8e57-4aa2-9167-bdc8f609b8dd",
   "metadata": {},
   "outputs": [],
   "source": [
    "from OperatorFunctions import wave_vector\n",
    "from HamiltonianClass import QuantumState\n",
    "from IPython.display import display, Latex\n",
    "import numpy as np\n",
    "import ipywidgets\n",
    "from matplotlib import pyplot as plt\n",
    "\n",
    "# variable used to improve notation\n",
    "rangle = r'\\rangle'\n",
    "hat_H = r'\\hat{H}'"
   ]
  },
  {
   "cell_type": "code",
   "execution_count": 3,
   "id": "749627a4-7093-42f8-9c09-916b4595c7a1",
   "metadata": {},
   "outputs": [],
   "source": [
    "L = 4\n",
    "J = 1\n",
    "delta = 1\n",
    "h = 1\n",
    "quantum_state = QuantumState(L, J, delta, is_reduced=True, is_pbc=True)\n",
    "\n",
    "k_list = [k for k in range(L + 1)]\n",
    "wave_vectors = [wave_vector(L, k) for k in k_list]"
   ]
  },
  {
   "cell_type": "markdown",
   "id": "65d3ea23-2a13-4936-aeba-ac65c4baf22f",
   "metadata": {},
   "source": [
    "We begin by creating a perturbation hamiltonian $\\delta\\hat{H}(t < 0) = h\\sum_icos(qi)\\hat{S}_i^z$:"
   ]
  },
  {
   "cell_type": "code",
   "execution_count": 4,
   "id": "bb0a85e5-9af0-4552-97b4-dee031f55c5c",
   "metadata": {},
   "outputs": [
    {
     "name": "stdout",
     "output_type": "stream",
     "text": [
      "  -1.0000e+00            0            0            0            0            0\n",
      "            0   1.6452e-16            0            0            0            0\n",
      "            0            0  -1.0000e+00            0            0            0\n",
      "            0            0            0   1.0000e+00            0            0\n",
      "            0            0            0            0  -1.6452e-16            0\n",
      "            0            0            0            0            0   1.0000e+00\n"
     ]
    }
   ],
   "source": [
    "q = wave_vector(L, 3)\n",
    "perturbation = quantum_state.get_wave_vector_perturbation(h, q)\n",
    "perturbation.print()"
   ]
  },
  {
   "cell_type": "markdown",
   "id": "d5024e43-3e4f-4d83-8cd7-3243f4a8ee13",
   "metadata": {},
   "source": [
    "Whole hamiltonian with perturbation added to it:"
   ]
  },
  {
   "cell_type": "code",
   "execution_count": 5,
   "id": "b84c9c38-fd90-403c-8ffd-07a8f2fba8ab",
   "metadata": {},
   "outputs": [
    {
     "data": {
      "text/plain": [
       "Text(0.5, 1.0, '$\\\\hat{H}_P$ operator:')"
      ]
     },
     "execution_count": 5,
     "metadata": {},
     "output_type": "execute_result"
    },
    {
     "data": {
      "image/png": "[encoded data removed]",
      "text/plain": [
       "<Figure size 640x480 with 1 Axes>"
      ]
     },
     "metadata": {},
     "output_type": "display_data"
    }
   ],
   "source": [
    "H_P = perturbation + quantum_state.get_hamiltonian()\n",
    "\n",
    "figure1, axes1 = plt.subplots(1, 1, layout='constrained')\n",
    "quantum_state.plot_data(matrix=H_P, axes=axes1)\n",
    "axes1.set_title(r'$\\hat{H}_P$ operator:')"
   ]
  },
  {
   "cell_type": "markdown",
   "id": "1d2b67a1-52d9-4de3-8cd2-78e085f34afe",
   "metadata": {},
   "source": [
    "Parameters can be tweaked below:"
   ]
  },
  {
   "cell_type": "code",
   "execution_count": 6,
   "id": "2884f4b1-0cac-4e35-a3db-7d6733ba2e7c",
   "metadata": {},
   "outputs": [],
   "source": [
    "def plot_perturbation_hamiltonian(wave_vector_number=0, h=1):\n",
    "    L=4\n",
    "    state = QuantumState(L, 1, 1, is_pbc=True, is_reduced=True)\n",
    "    perturbation = quantum_state.get_wave_vector_perturbation(h, wave_vector(L, wave_vector_number))\n",
    "    H_P = perturbation + quantum_state.get_hamiltonian()\n",
    "    \n",
    "    figure, axes = plt.subplots(1, 1, layout='constrained')\n",
    "    axes.set_title('$\\hat{H}_P$ operator:')\n",
    "    state.plot_data(matrix=H_P, axes=axes)\n",
    "    plt.show()"
   ]
  },
  {
   "cell_type": "code",
   "execution_count": 7,
   "id": "2e5804e5-2e31-4534-a3b1-ebc3faf9404b",
   "metadata": {},
   "outputs": [
    {
     "data": {
      "application/vnd.jupyter.widget-view+json": {
       "model_id": "f466a04599d840188d6694bd05b45a31",
       "version_major": 2,
       "version_minor": 0
      },
      "text/plain": [
       "interactive(children=(IntSlider(value=0, description='wave_vector_number', max=4), FloatSlider(value=1.0, desc…"
      ]
     },
     "metadata": {},
     "output_type": "display_data"
    },
    {
     "data": {
      "text/plain": [
       "<function __main__.plot_perturbation_hamiltonian(wave_vector_number=0, h=1)>"
      ]
     },
     "execution_count": 7,
     "metadata": {},
     "output_type": "execute_result"
    }
   ],
   "source": [
    "ipywidgets.interact(plot_perturbation_hamiltonian, \n",
    "                    wave_vector_number=(0, 4, 1),\n",
    "                    h=(0.01, 10, 0.1))"
   ]
  },
  {
   "cell_type": "markdown",
   "id": "d5a1a1b0-b9e2-444b-ba78-2a89fd2f76ad",
   "metadata": {},
   "source": [
    "Now we need to get a ground state $|\\psi_{H_P}^0\\rangle$ from perturbed hamiltonian."
   ]
  },
  {
   "cell_type": "code",
   "execution_count": 8,
   "id": "7ed294f7-befb-4d44-9e58-1e798311f912",
   "metadata": {},
   "outputs": [
    {
     "name": "stdout",
     "output_type": "stream",
     "text": [
      "0.2887|0011> - 0.5774|0101> + 0.2887|0110> + 0.2887|1001> - 0.5774|1010> + 0.2887|1100>\n"
     ]
    }
   ],
   "source": [
    "ground_state = quantum_state.get_nth_eigenvector(0)\n",
    "quantum_state.eigenstates(add_perturbation=perturbation)\n",
    "ground_state_perturbed = quantum_state.get_nth_eigenvector(0)\n",
    "quantum_state.print_state_vector()"
   ]
  },
  {
   "cell_type": "markdown",
   "id": "52521c5a-6519-49bc-a27a-8e19f4c37d85",
   "metadata": {},
   "source": [
    "Let's compare two state vectors:"
   ]
  },
  {
   "cell_type": "code",
   "execution_count": 11,
   "id": "87662160-0f42-4e7d-8ac0-44070287a4d7",
   "metadata": {},
   "outputs": [
    {
     "name": "stdout",
     "output_type": "stream",
     "text": [
      "   0.2887\n",
      "  -0.5774\n",
      "   0.2887\n",
      "   0.2887\n",
      "  -0.5774\n",
      "   0.2887\n",
      "   0.4467\n",
      "  -0.5227\n",
      "   0.4467\n",
      "   0.1649\n",
      "  -0.5227\n",
      "   0.1649\n"
     ]
    },
    {
     "ename": "TypeError",
     "evalue": "object of type 'numpy.float64' has no len()",
     "output_type": "error",
     "traceback": [
      "\u001b[1;31m---------------------------------------------------------------------------\u001b[0m",
      "\u001b[1;31mTypeError\u001b[0m                                 Traceback (most recent call last)",
      "Cell \u001b[1;32mIn[11], line 7\u001b[0m\n\u001b[0;32m      5\u001b[0m ground_state\u001b[38;5;241m.\u001b[39mprint()\n\u001b[0;32m      6\u001b[0m ground_state_perturbed\u001b[38;5;241m.\u001b[39mprint()\n\u001b[1;32m----> 7\u001b[0m \u001b[43mquantum_state\u001b[49m\u001b[38;5;241;43m.\u001b[39;49m\u001b[43mplot_data\u001b[49m\u001b[43m(\u001b[49m\u001b[43mmatrix\u001b[49m\u001b[38;5;241;43m=\u001b[39;49m\u001b[43mground_state\u001b[49m\u001b[43m,\u001b[49m\u001b[43m \u001b[49m\u001b[43maxes\u001b[49m\u001b[38;5;241;43m=\u001b[39;49m\u001b[43max2\u001b[49m\u001b[43m[\u001b[49m\u001b[38;5;241;43m0\u001b[39;49m\u001b[43m]\u001b[49m\u001b[43m)\u001b[49m\n\u001b[0;32m      8\u001b[0m quantum_state\u001b[38;5;241m.\u001b[39mplot_data(matrix\u001b[38;5;241m=\u001b[39mground_state_perturbed, axes\u001b[38;5;241m=\u001b[39max2[\u001b[38;5;241m1\u001b[39m])\n\u001b[0;32m      9\u001b[0m plt\u001b[38;5;241m.\u001b[39mshow()\n",
      "File \u001b[1;32m~\\Desktop\\Programming\\HeisenbergModel\\Perturbation\\..\\HamiltonianClass.py:70\u001b[0m, in \u001b[0;36mHamiltonian.plot_data\u001b[1;34m(self, matrix, axes)\u001b[0m\n\u001b[0;32m     66\u001b[0m axes\u001b[38;5;241m.\u001b[39maxis(\u001b[38;5;124m'\u001b[39m\u001b[38;5;124moff\u001b[39m\u001b[38;5;124m'\u001b[39m)\n\u001b[0;32m     68\u001b[0m matrix \u001b[38;5;241m=\u001b[39m np\u001b[38;5;241m.\u001b[39mround(np\u001b[38;5;241m.\u001b[39marray(matrix), \u001b[38;5;241m4\u001b[39m) \u001b[38;5;28;01mif\u001b[39;00m matrix \u001b[38;5;28;01melse\u001b[39;00m np\u001b[38;5;241m.\u001b[39mround(np\u001b[38;5;241m.\u001b[39marray(\u001b[38;5;28mself\u001b[39m\u001b[38;5;241m.\u001b[39mmatrix), \u001b[38;5;241m4\u001b[39m)\n\u001b[1;32m---> 70\u001b[0m table \u001b[38;5;241m=\u001b[39m \u001b[43maxes\u001b[49m\u001b[38;5;241;43m.\u001b[39;49m\u001b[43mtable\u001b[49m\u001b[43m(\u001b[49m\u001b[43mcellText\u001b[49m\u001b[38;5;241;43m=\u001b[39;49m\u001b[43mmatrix\u001b[49m\u001b[43m,\u001b[49m\u001b[43m \u001b[49m\u001b[43mloc\u001b[49m\u001b[38;5;241;43m=\u001b[39;49m\u001b[38;5;124;43m'\u001b[39;49m\u001b[38;5;124;43mcenter\u001b[39;49m\u001b[38;5;124;43m'\u001b[39;49m\u001b[43m,\u001b[49m\u001b[43m \u001b[49m\u001b[43mcellLoc\u001b[49m\u001b[38;5;241;43m=\u001b[39;49m\u001b[38;5;124;43m'\u001b[39;49m\u001b[38;5;124;43mcenter\u001b[39;49m\u001b[38;5;124;43m'\u001b[39;49m\u001b[43m)\u001b[49m\n\u001b[0;32m     71\u001b[0m table\u001b[38;5;241m.\u001b[39mauto_set_font_size(\u001b[38;5;28;01mFalse\u001b[39;00m)\n\u001b[0;32m     72\u001b[0m table\u001b[38;5;241m.\u001b[39mset_fontsize(\u001b[38;5;241m9\u001b[39m)\n",
      "File \u001b[1;32m~\\Desktop\\Programming\\projects39\\lib\\site-packages\\matplotlib\\table.py:749\u001b[0m, in \u001b[0;36mtable\u001b[1;34m(ax, cellText, cellColours, cellLoc, colWidths, rowLabels, rowColours, rowLoc, colLabels, colColours, colLoc, loc, bbox, edges, **kwargs)\u001b[0m\n\u001b[0;32m    746\u001b[0m     cellText \u001b[38;5;241m=\u001b[39m [[\u001b[38;5;124m'\u001b[39m\u001b[38;5;124m'\u001b[39m] \u001b[38;5;241m*\u001b[39m cols] \u001b[38;5;241m*\u001b[39m rows\n\u001b[0;32m    748\u001b[0m rows \u001b[38;5;241m=\u001b[39m \u001b[38;5;28mlen\u001b[39m(cellText)\n\u001b[1;32m--> 749\u001b[0m cols \u001b[38;5;241m=\u001b[39m \u001b[38;5;28;43mlen\u001b[39;49m\u001b[43m(\u001b[49m\u001b[43mcellText\u001b[49m\u001b[43m[\u001b[49m\u001b[38;5;241;43m0\u001b[39;49m\u001b[43m]\u001b[49m\u001b[43m)\u001b[49m\n\u001b[0;32m    750\u001b[0m \u001b[38;5;28;01mfor\u001b[39;00m row \u001b[38;5;129;01min\u001b[39;00m cellText:\n\u001b[0;32m    751\u001b[0m     \u001b[38;5;28;01mif\u001b[39;00m \u001b[38;5;28mlen\u001b[39m(row) \u001b[38;5;241m!=\u001b[39m cols:\n",
      "\u001b[1;31mTypeError\u001b[0m: object of type 'numpy.float64' has no len()"
     ]
    },
    {
     "data": {
      "image/png": "[encoded data removed]",
      "text/plain": [
       "<Figure size 640x480 with 2 Axes>"
      ]
     },
     "metadata": {},
     "output_type": "display_data"
    }
   ],
   "source": [
    "fig2, ax2 = plt.subplots(1, 2, layout='constrained')\n",
    "fig2.suptitle(f'$|\\psi_0{rangle}$ comparison')\n",
    "ax2[0].set_title(r'$|\\psi_{H_0}^0' + f'{rangle}$')\n",
    "ax2[1].set_title(r'$|\\psi_{H_P}^0' + f'{rangle}$')\n",
    "ground_state.print()\n",
    "ground_state_perturbed.print()\n",
    "quantum_state.plot_data(matrix=ground_state, axes=ax2[0])\n",
    "quantum_state.plot_data(matrix=ground_state_perturbed, axes=ax2[1])\n",
    "plt.show()"
   ]
  },
  {
   "cell_type": "code",
   "execution_count": null,
   "id": "e44c9d63-9a0f-4515-a968-cfe61e006a5c",
   "metadata": {},
   "outputs": [],
   "source": []
  }
 ],
 "metadata": {
  "kernelspec": {
   "display_name": "Python 3 (ipykernel)",
   "language": "python",
   "name": "python3"
  },
  "language_info": {
   "codemirror_mode": {
    "name": "ipython",
    "version": 3
   },
   "file_extension": ".py",
   "mimetype": "text/x-python",
   "name": "python",
   "nbconvert_exporter": "python",
   "pygments_lexer": "ipython3",
   "version": "3.9.13"
  }
 },
 "nbformat": 4,
 "nbformat_minor": 5
}
